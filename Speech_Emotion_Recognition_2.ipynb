{
  "nbformat": 4,
  "nbformat_minor": 0,
  "metadata": {
    "colab": {
      "name": "Speech Emotion Recognition 2.ipynb",
      "provenance": [],
      "collapsed_sections": []
    },
    "kernelspec": {
      "name": "python3",
      "display_name": "Python 3"
    }
  },
  "cells": [
    {
      "cell_type": "code",
      "metadata": {
        "id": "M5B_zBV2ehT3",
        "colab": {
          "base_uri": "https://localhost:8080/",
          "height": 34
        },
        "outputId": "93a3a158-3f66-47c6-fc64-aee0d112053d"
      },
      "source": [
        "from google.colab import drive\n",
        "drive.mount('/content/drive')"
      ],
      "execution_count": null,
      "outputs": [
        {
          "output_type": "stream",
          "text": [
            "Mounted at /content/drive\n"
          ],
          "name": "stdout"
        }
      ]
    },
    {
      "cell_type": "code",
      "metadata": {
        "id": "goQx_on9gUtH",
        "colab": {
          "base_uri": "https://localhost:8080/",
          "height": 218
        },
        "outputId": "29fdb5f4-a722-44a0-a652-8cdd01be1097"
      },
      "source": [
        "!pip install librosa"
      ],
      "execution_count": null,
      "outputs": [
        {
          "output_type": "stream",
          "text": [
            "Requirement already satisfied: librosa in /usr/local/lib/python3.6/dist-packages (0.6.3)\n",
            "Requirement already satisfied: scipy>=1.0.0 in /usr/local/lib/python3.6/dist-packages (from librosa) (1.4.1)\n",
            "Requirement already satisfied: numpy>=1.8.0 in /usr/local/lib/python3.6/dist-packages (from librosa) (1.18.5)\n",
            "Requirement already satisfied: decorator>=3.0.0 in /usr/local/lib/python3.6/dist-packages (from librosa) (4.4.2)\n",
            "Requirement already satisfied: resampy>=0.2.0 in /usr/local/lib/python3.6/dist-packages (from librosa) (0.2.2)\n",
            "Requirement already satisfied: joblib>=0.12 in /usr/local/lib/python3.6/dist-packages (from librosa) (0.16.0)\n",
            "Requirement already satisfied: audioread>=2.0.0 in /usr/local/lib/python3.6/dist-packages (from librosa) (2.1.8)\n",
            "Requirement already satisfied: numba>=0.38.0 in /usr/local/lib/python3.6/dist-packages (from librosa) (0.48.0)\n",
            "Requirement already satisfied: scikit-learn!=0.19.0,>=0.14.0 in /usr/local/lib/python3.6/dist-packages (from librosa) (0.22.2.post1)\n",
            "Requirement already satisfied: six>=1.3 in /usr/local/lib/python3.6/dist-packages (from librosa) (1.15.0)\n",
            "Requirement already satisfied: llvmlite<0.32.0,>=0.31.0dev0 in /usr/local/lib/python3.6/dist-packages (from numba>=0.38.0->librosa) (0.31.0)\n",
            "Requirement already satisfied: setuptools in /usr/local/lib/python3.6/dist-packages (from numba>=0.38.0->librosa) (50.3.0)\n"
          ],
          "name": "stdout"
        }
      ]
    },
    {
      "cell_type": "code",
      "metadata": {
        "id": "O7DtmjeigfNp"
      },
      "source": [
        "import librosa\n",
        "from librosa import display\n",
        "\n",
        "data, sampling_rate = librosa.load('/content/drive/My Drive/Ravdess/03-01-01-01-01-01-01.wav')"
      ],
      "execution_count": null,
      "outputs": []
    },
    {
      "cell_type": "code",
      "metadata": {
        "id": "ieSBNgCLgrry",
        "colab": {
          "base_uri": "https://localhost:8080/",
          "height": 363
        },
        "outputId": "47fab7a3-2580-4757-81bc-2ba2c2ae315d"
      },
      "source": [
        "% pylab inline\n",
        "import os\n",
        "import pandas as pd\n",
        "import glob \n",
        "\n",
        "plt.figure(figsize=(12, 4))\n",
        "librosa.display.waveplot(data, sr=sampling_rate)"
      ],
      "execution_count": null,
      "outputs": [
        {
          "output_type": "stream",
          "text": [
            "Populating the interactive namespace from numpy and matplotlib\n"
          ],
          "name": "stdout"
        },
        {
          "output_type": "stream",
          "text": [
            "/usr/local/lib/python3.6/dist-packages/IPython/core/magics/pylab.py:161: UserWarning: pylab import has clobbered these variables: ['display']\n",
            "`%matplotlib` prevents importing * from pylab and numpy\n",
            "  \"\\n`%matplotlib` prevents importing * from pylab and numpy\"\n"
          ],
          "name": "stderr"
        },
        {
          "output_type": "execute_result",
          "data": {
            "text/plain": [
              "<matplotlib.collections.PolyCollection at 0x7f2a2d2ae7f0>"
            ]
          },
          "metadata": {
            "tags": []
          },
          "execution_count": 4
        },
        {
          "output_type": "display_data",
          "data": {
            "image/png": "[encoded data removed]",
            "text/plain": [
              "<Figure size 864x288 with 1 Axes>"
            ]
          },
          "metadata": {
            "tags": [],
            "needs_background": "light"
          }
        }
      ]
    },
    {
      "cell_type": "code",
      "metadata": {
        "id": "hmUsL8vZpFz0",
        "colab": {
          "base_uri": "https://localhost:8080/",
          "height": 34
        },
        "outputId": "4904b7d5-c206-43df-8771-90777bf0d39d"
      },
      "source": [
        "import time\n",
        "\n",
        "path = '/content/drive/My Drive/Ravdess/'\n",
        "lst = []\n",
        "\n",
        "start_time = time.time()\n",
        "\n",
        "for subdir, dirs, files in os.walk(path):\n",
        "  for file in files:\n",
        "      try:\n",
        "        #Load librosa array, obtain mfcss, store the file and the mcss information in a new array\n",
        "        X, sample_rate = librosa.load(os.path.join(subdir,file), res_type='kaiser_fast')\n",
        "        mfccs = np.mean(librosa.feature.mfcc(y=X, sr=sample_rate, n_mfcc=40).T,axis=0) \n",
        "        # The instruction below converts the labels (from 1 to 8) to a series from 0 to 7\n",
        "        # This is because our predictor needs to start from 0 otherwise it will try to predict also 0.\n",
        "        file = int(file[7:8]) - 1 \n",
        "        arr = mfccs, file\n",
        "        lst.append(arr)\n",
        "      # If the file is not valid, skip it\n",
        "      except ValueError:\n",
        "        continue\n",
        "\n",
        "print(\"--- Data loaded. Loading time: %s seconds ---\" % (time.time() - start_time))"
      ],
      "execution_count": null,
      "outputs": [
        {
          "output_type": "stream",
          "text": [
            "--- Data loaded. Loading time: 505.6281886100769 seconds ---\n"
          ],
          "name": "stdout"
        }
      ]
    },
    {
      "cell_type": "code",
      "metadata": {
        "id": "gMmQ1TXapcNw"
      },
      "source": [
        "X, y = zip(*lst)"
      ],
      "execution_count": null,
      "outputs": []
    },
    {
      "cell_type": "code",
      "metadata": {
        "id": "7GaOd34apiFt",
        "colab": {
          "base_uri": "https://localhost:8080/",
          "height": 34
        },
        "outputId": "e4b8601b-c2f0-439b-a0da-464f26bcda6a"
      },
      "source": [
        "import numpy as np\n",
        "X = np.asarray(X)\n",
        "y = np.asarray(y)\n",
        "\n",
        "\n",
        "X.shape, y.shape"
      ],
      "execution_count": null,
      "outputs": [
        {
          "output_type": "execute_result",
          "data": {
            "text/plain": [
              "((1440, 40), (1440,))"
            ]
          },
          "metadata": {
            "tags": []
          },
          "execution_count": 7
        }
      ]
    },
    {
      "cell_type": "markdown",
      "metadata": {
        "id": "-ojtR_fV12zO"
      },
      "source": [
        "#Decision Tree"
      ]
    },
    {
      "cell_type": "code",
      "metadata": {
        "id": "Kc5COboq0ocG"
      },
      "source": [
        "from sklearn.model_selection import train_test_split\n",
        "\n",
        "X_train, X_test, y_train, y_test = train_test_split(X, y, test_size=0.33, random_state=42)"
      ],
      "execution_count": null,
      "outputs": []
    },
    {
      "cell_type": "code",
      "metadata": {
        "id": "mr9kv0EF1_mL"
      },
      "source": [
        "from sklearn.tree import DecisionTreeClassifier"
      ],
      "execution_count": null,
      "outputs": []
    },
    {
      "cell_type": "code",
      "metadata": {
        "id": "2hIvOGpd2C_1"
      },
      "source": [
        "dtree = DecisionTreeClassifier()"
      ],
      "execution_count": null,
      "outputs": []
    },
    {
      "cell_type": "code",
      "metadata": {
        "id": "NId2dCz92Gxk",
        "colab": {
          "base_uri": "https://localhost:8080/",
          "height": 118
        },
        "outputId": "f8de4612-b1eb-4ce5-de7a-5ea8be285365"
      },
      "source": [
        "dtree.fit(X_train, y_train)"
      ],
      "execution_count": null,
      "outputs": [
        {
          "output_type": "execute_result",
          "data": {
            "text/plain": [
              "DecisionTreeClassifier(ccp_alpha=0.0, class_weight=None, criterion='gini',\n",
              "                       max_depth=None, max_features=None, max_leaf_nodes=None,\n",
              "                       min_impurity_decrease=0.0, min_impurity_split=None,\n",
              "                       min_samples_leaf=1, min_samples_split=2,\n",
              "                       min_weight_fraction_leaf=0.0, presort='deprecated',\n",
              "                       random_state=None, splitter='best')"
            ]
          },
          "metadata": {
            "tags": []
          },
          "execution_count": 11
        }
      ]
    },
    {
      "cell_type": "code",
      "metadata": {
        "id": "9kZ4mPS_2Jpf"
      },
      "source": [
        "predictions = dtree.predict(X_test)"
      ],
      "execution_count": null,
      "outputs": []
    },
    {
      "cell_type": "markdown",
      "metadata": {
        "id": "S3H5JNM_2TEC"
      },
      "source": [
        "Let's go with our classification report.\n",
        "\n",
        "Before we start, a quick reminder of the classes we are trying to predict:\n",
        "\n",
        "emotions = { \"neutral\": \"0\", \"calm\": \"1\", \"happy\": \"2\", \"sad\": \"3\", \"angry\": \"4\", \"fearful\": \"5\", \"disgust\": \"6\", \"surprised\": \"7\" }"
      ]
    },
    {
      "cell_type": "code",
      "metadata": {
        "id": "MGwz0lmp2Mzm",
        "colab": {
          "base_uri": "https://localhost:8080/",
          "height": 269
        },
        "outputId": "dc033a9b-2556-48c4-b9c8-9b587b924b6b"
      },
      "source": [
        "from sklearn.metrics import classification_report,confusion_matrix\n",
        "print(classification_report(y_test,predictions))"
      ],
      "execution_count": null,
      "outputs": [
        {
          "output_type": "stream",
          "text": [
            "              precision    recall  f1-score   support\n",
            "\n",
            "           0       0.34      0.37      0.35        30\n",
            "           1       0.51      0.59      0.55        51\n",
            "           2       0.35      0.32      0.34        71\n",
            "           3       0.29      0.22      0.25        67\n",
            "           4       0.43      0.44      0.44        63\n",
            "           5       0.34      0.37      0.35        59\n",
            "           6       0.38      0.30      0.34        76\n",
            "           7       0.27      0.36      0.31        59\n",
            "\n",
            "    accuracy                           0.36       476\n",
            "   macro avg       0.36      0.37      0.37       476\n",
            "weighted avg       0.36      0.36      0.36       476\n",
            "\n"
          ],
          "name": "stdout"
        }
      ]
    },
    {
      "cell_type": "markdown",
      "metadata": {
        "id": "-2s3Hn282hBj"
      },
      "source": [
        "#Random Forest\n",
        "In this second approach, I switched to a random forest classifier and I made a gridsearch to make some hyperparameters tuning.\n",
        "\n",
        "The gridsearch is not shown in the code below otherwise the notebook will require too much time to run."
      ]
    },
    {
      "cell_type": "code",
      "metadata": {
        "id": "5XtiHyxx2Y6w"
      },
      "source": [
        "from sklearn.ensemble import RandomForestClassifier"
      ],
      "execution_count": null,
      "outputs": []
    },
    {
      "cell_type": "code",
      "metadata": {
        "id": "5s2QgOdC2mqg"
      },
      "source": [
        "rforest = RandomForestClassifier(criterion=\"gini\", max_depth=10, max_features=\"log2\", \n",
        "                                 max_leaf_nodes = 100, min_samples_leaf = 3, min_samples_split = 20, \n",
        "                                 n_estimators= 22000, random_state= 5)"
      ],
      "execution_count": null,
      "outputs": []
    },
    {
      "cell_type": "code",
      "metadata": {
        "id": "5ee6ZC2D2r_a",
        "colab": {
          "base_uri": "https://localhost:8080/",
          "height": 151
        },
        "outputId": "ebe905e8-8b02-474b-c1ad-ea945d0bde68"
      },
      "source": [
        "rforest.fit(X_train, y_train)"
      ],
      "execution_count": null,
      "outputs": [
        {
          "output_type": "execute_result",
          "data": {
            "text/plain": [
              "RandomForestClassifier(bootstrap=True, ccp_alpha=0.0, class_weight=None,\n",
              "                       criterion='gini', max_depth=10, max_features='log2',\n",
              "                       max_leaf_nodes=100, max_samples=None,\n",
              "                       min_impurity_decrease=0.0, min_impurity_split=None,\n",
              "                       min_samples_leaf=3, min_samples_split=20,\n",
              "                       min_weight_fraction_leaf=0.0, n_estimators=22000,\n",
              "                       n_jobs=None, oob_score=False, random_state=5, verbose=0,\n",
              "                       warm_start=False)"
            ]
          },
          "metadata": {
            "tags": []
          },
          "execution_count": 16
        }
      ]
    },
    {
      "cell_type": "code",
      "metadata": {
        "id": "uyucrUbd2vD8"
      },
      "source": [
        "predictions = rforest.predict(X_test)"
      ],
      "execution_count": null,
      "outputs": []
    },
    {
      "cell_type": "code",
      "metadata": {
        "id": "_5nOrYC33KHn",
        "colab": {
          "base_uri": "https://localhost:8080/",
          "height": 269
        },
        "outputId": "96c89eee-baf0-43be-c0da-9bb67d4fa4a3"
      },
      "source": [
        "print(classification_report(y_test,predictions))"
      ],
      "execution_count": null,
      "outputs": [
        {
          "output_type": "stream",
          "text": [
            "              precision    recall  f1-score   support\n",
            "\n",
            "           0       1.00      0.03      0.06        30\n",
            "           1       0.36      0.92      0.52        51\n",
            "           2       0.38      0.21      0.27        71\n",
            "           3       0.35      0.31      0.33        67\n",
            "           4       0.77      0.57      0.65        63\n",
            "           5       0.48      0.49      0.49        59\n",
            "           6       0.49      0.38      0.43        76\n",
            "           7       0.47      0.64      0.55        59\n",
            "\n",
            "    accuracy                           0.45       476\n",
            "   macro avg       0.54      0.45      0.41       476\n",
            "weighted avg       0.51      0.45      0.43       476\n",
            "\n"
          ],
          "name": "stdout"
        }
      ]
    },
    {
      "cell_type": "markdown",
      "metadata": {
        "id": "lgsvX7S13VQN"
      },
      "source": [
        "\n",
        "#Neural network\n",
        "Let's build our neural network!\n",
        "\n",
        "To do so, we need to expand the dimensions of our array, adding a third one using the numpy \"expand_dims\" feature."
      ]
    },
    {
      "cell_type": "code",
      "metadata": {
        "id": "r7wjRLDS3OXb"
      },
      "source": [
        "x_traincnn = np.expand_dims(X_train, axis=2)\n",
        "x_testcnn = np.expand_dims(X_test, axis=2)"
      ],
      "execution_count": null,
      "outputs": []
    },
    {
      "cell_type": "code",
      "metadata": {
        "id": "kX4P7R2b3dyL",
        "colab": {
          "base_uri": "https://localhost:8080/",
          "height": 34
        },
        "outputId": "62e367bd-290e-4ec2-c711-672d651fedda"
      },
      "source": [
        "x_traincnn.shape, x_testcnn.shape"
      ],
      "execution_count": null,
      "outputs": [
        {
          "output_type": "execute_result",
          "data": {
            "text/plain": [
              "((964, 40, 1), (476, 40, 1))"
            ]
          },
          "metadata": {
            "tags": []
          },
          "execution_count": 20
        }
      ]
    },
    {
      "cell_type": "code",
      "metadata": {
        "id": "zBF3q6JF3kGF"
      },
      "source": [
        "import keras\n",
        "import numpy as np\n",
        "import matplotlib.pyplot as plt\n",
        "import tensorflow as tf\n",
        "from keras.preprocessing import sequence\n",
        "from keras.models import Sequential\n",
        "from keras.layers import Dense, Embedding\n",
        "from keras.utils import to_categorical\n",
        "from keras.layers import Input, Flatten, Dropout, Activation\n",
        "from keras.layers import Conv1D, MaxPooling1D\n",
        "from keras.models import Model\n",
        "from keras.callbacks import ModelCheckpoint\n",
        "\n",
        "model = Sequential()\n",
        "\n",
        "model.add(Conv1D(64, 5,padding='same',\n",
        "                 input_shape=(40,1)))\n",
        "model.add(Activation('relu'))\n",
        "model.add(Dropout(0.1))\n",
        "model.add(MaxPooling1D(pool_size=(4)))\n",
        "model.add(Conv1D(128, 5,padding='same',))\n",
        "model.add(Activation('relu'))\n",
        "model.add(Dropout(0.1))\n",
        "model.add(MaxPooling1D(pool_size=(4)))\n",
        "model.add(Conv1D(256, 5,padding='same',))\n",
        "model.add(Activation('relu'))\n",
        "model.add(Dropout(0.1))\n",
        "model.add(Flatten())\n",
        "model.add(Dense(8))\n",
        "model.add(Activation('softmax'))\n",
        "opt = keras.optimizers.RMSprop(lr=0.00005, rho=0.9, epsilon=1e-07, decay=0.0)"
      ],
      "execution_count": null,
      "outputs": []
    },
    {
      "cell_type": "code",
      "metadata": {
        "id": "hm6z7INw3oiD",
        "colab": {
          "base_uri": "https://localhost:8080/",
          "height": 622
        },
        "outputId": "81007a78-d662-412b-e26e-52a78fa7f5d9"
      },
      "source": [
        "model.summary()"
      ],
      "execution_count": null,
      "outputs": [
        {
          "output_type": "stream",
          "text": [
            "Model: \"sequential_2\"\n",
            "_________________________________________________________________\n",
            "Layer (type)                 Output Shape              Param #   \n",
            "=================================================================\n",
            "conv1d_5 (Conv1D)            (None, 40, 64)            384       \n",
            "_________________________________________________________________\n",
            "activation_7 (Activation)    (None, 40, 64)            0         \n",
            "_________________________________________________________________\n",
            "dropout_5 (Dropout)          (None, 40, 64)            0         \n",
            "_________________________________________________________________\n",
            "max_pooling1d_3 (MaxPooling1 (None, 10, 64)            0         \n",
            "_________________________________________________________________\n",
            "conv1d_6 (Conv1D)            (None, 10, 128)           41088     \n",
            "_________________________________________________________________\n",
            "activation_8 (Activation)    (None, 10, 128)           0         \n",
            "_________________________________________________________________\n",
            "dropout_6 (Dropout)          (None, 10, 128)           0         \n",
            "_________________________________________________________________\n",
            "max_pooling1d_4 (MaxPooling1 (None, 2, 128)            0         \n",
            "_________________________________________________________________\n",
            "conv1d_7 (Conv1D)            (None, 2, 256)            164096    \n",
            "_________________________________________________________________\n",
            "activation_9 (Activation)    (None, 2, 256)            0         \n",
            "_________________________________________________________________\n",
            "dropout_7 (Dropout)          (None, 2, 256)            0         \n",
            "_________________________________________________________________\n",
            "flatten_2 (Flatten)          (None, 512)               0         \n",
            "_________________________________________________________________\n",
            "dense_2 (Dense)              (None, 8)                 4104      \n",
            "_________________________________________________________________\n",
            "activation_10 (Activation)   (None, 8)                 0         \n",
            "=================================================================\n",
            "Total params: 209,672\n",
            "Trainable params: 209,672\n",
            "Non-trainable params: 0\n",
            "_________________________________________________________________\n"
          ],
          "name": "stdout"
        }
      ]
    },
    {
      "cell_type": "code",
      "metadata": {
        "id": "2PngNW9C3-QG"
      },
      "source": [
        "model.compile(loss='sparse_categorical_crossentropy',\n",
        "              optimizer=opt,\n",
        "              metrics=['accuracy'])"
      ],
      "execution_count": null,
      "outputs": []
    },
    {
      "cell_type": "code",
      "metadata": {
        "id": "uhiU8YHs4D_A",
        "colab": {
          "base_uri": "https://localhost:8080/",
          "height": 1000
        },
        "outputId": "24e1b476-9e52-48d5-e62b-f9a21a82d359"
      },
      "source": [
        "cnnhistory=model.fit(x_traincnn, y_train, batch_size=16, epochs=200, validation_data=(x_testcnn, y_test))"
      ],
      "execution_count": null,
      "outputs": [
        {
          "output_type": "stream",
          "text": [
            "Epoch 1/200\n",
            "61/61 [==============================] - 1s 16ms/step - loss: 2.3063 - accuracy: 0.2189 - val_loss: 1.9947 - val_accuracy: 0.2101\n",
            "Epoch 2/200\n",
            "61/61 [==============================] - 1s 16ms/step - loss: 2.2833 - accuracy: 0.2012 - val_loss: 2.0371 - val_accuracy: 0.1933\n",
            "Epoch 3/200\n",
            "61/61 [==============================] - 1s 16ms/step - loss: 2.2256 - accuracy: 0.2106 - val_loss: 2.0629 - val_accuracy: 0.2038\n",
            "Epoch 4/200\n",
            "61/61 [==============================] - 1s 16ms/step - loss: 2.1696 - accuracy: 0.2158 - val_loss: 1.9853 - val_accuracy: 0.2605\n",
            "Epoch 5/200\n",
            "61/61 [==============================] - 1s 16ms/step - loss: 2.1066 - accuracy: 0.2251 - val_loss: 1.9387 - val_accuracy: 0.2332\n",
            "Epoch 6/200\n",
            "61/61 [==============================] - 1s 15ms/step - loss: 2.0853 - accuracy: 0.2334 - val_loss: 1.9095 - val_accuracy: 0.2374\n",
            "Epoch 7/200\n",
            "61/61 [==============================] - 1s 15ms/step - loss: 2.0980 - accuracy: 0.2293 - val_loss: 1.9954 - val_accuracy: 0.2290\n",
            "Epoch 8/200\n",
            "61/61 [==============================] - 1s 15ms/step - loss: 2.0350 - accuracy: 0.2396 - val_loss: 1.8690 - val_accuracy: 0.2647\n",
            "Epoch 9/200\n",
            "61/61 [==============================] - 1s 15ms/step - loss: 2.0289 - accuracy: 0.2573 - val_loss: 2.0239 - val_accuracy: 0.2101\n",
            "Epoch 10/200\n",
            "61/61 [==============================] - 1s 15ms/step - loss: 1.9971 - accuracy: 0.2376 - val_loss: 1.9510 - val_accuracy: 0.2668\n",
            "Epoch 11/200\n",
            "61/61 [==============================] - 1s 15ms/step - loss: 1.9808 - accuracy: 0.2490 - val_loss: 1.9027 - val_accuracy: 0.2563\n",
            "Epoch 12/200\n",
            "61/61 [==============================] - 1s 15ms/step - loss: 1.9817 - accuracy: 0.2666 - val_loss: 1.9585 - val_accuracy: 0.2269\n",
            "Epoch 13/200\n",
            "61/61 [==============================] - 1s 15ms/step - loss: 1.9771 - accuracy: 0.2324 - val_loss: 1.9379 - val_accuracy: 0.2521\n",
            "Epoch 14/200\n",
            "61/61 [==============================] - 1s 15ms/step - loss: 1.9252 - accuracy: 0.2593 - val_loss: 1.8988 - val_accuracy: 0.2626\n",
            "Epoch 15/200\n",
            "61/61 [==============================] - 1s 15ms/step - loss: 1.9190 - accuracy: 0.2666 - val_loss: 1.8740 - val_accuracy: 0.2773\n",
            "Epoch 16/200\n",
            "61/61 [==============================] - 1s 16ms/step - loss: 1.9500 - accuracy: 0.2759 - val_loss: 1.9291 - val_accuracy: 0.2353\n",
            "Epoch 17/200\n",
            "61/61 [==============================] - 1s 15ms/step - loss: 1.9010 - accuracy: 0.2697 - val_loss: 1.9066 - val_accuracy: 0.2710\n",
            "Epoch 18/200\n",
            "61/61 [==============================] - 1s 15ms/step - loss: 1.8784 - accuracy: 0.2822 - val_loss: 1.9018 - val_accuracy: 0.2731\n",
            "Epoch 19/200\n",
            "61/61 [==============================] - 1s 15ms/step - loss: 1.9280 - accuracy: 0.2541 - val_loss: 1.8925 - val_accuracy: 0.2794\n",
            "Epoch 20/200\n",
            "61/61 [==============================] - 1s 15ms/step - loss: 1.8647 - accuracy: 0.2759 - val_loss: 1.8429 - val_accuracy: 0.2773\n",
            "Epoch 21/200\n",
            "61/61 [==============================] - 1s 15ms/step - loss: 1.9127 - accuracy: 0.2676 - val_loss: 1.9264 - val_accuracy: 0.2794\n",
            "Epoch 22/200\n",
            "61/61 [==============================] - 1s 15ms/step - loss: 1.9108 - accuracy: 0.2531 - val_loss: 1.8845 - val_accuracy: 0.2815\n",
            "Epoch 23/200\n",
            "61/61 [==============================] - 1s 16ms/step - loss: 1.8496 - accuracy: 0.2946 - val_loss: 1.8606 - val_accuracy: 0.3025\n",
            "Epoch 24/200\n",
            "61/61 [==============================] - 1s 15ms/step - loss: 1.8543 - accuracy: 0.2697 - val_loss: 1.8747 - val_accuracy: 0.2794\n",
            "Epoch 25/200\n",
            "61/61 [==============================] - 1s 15ms/step - loss: 1.8377 - accuracy: 0.2707 - val_loss: 1.8453 - val_accuracy: 0.2731\n",
            "Epoch 26/200\n",
            "61/61 [==============================] - 1s 15ms/step - loss: 1.8566 - accuracy: 0.2832 - val_loss: 1.8731 - val_accuracy: 0.3046\n",
            "Epoch 27/200\n",
            "61/61 [==============================] - 1s 15ms/step - loss: 1.8431 - accuracy: 0.2770 - val_loss: 1.8406 - val_accuracy: 0.3025\n",
            "Epoch 28/200\n",
            "61/61 [==============================] - 1s 15ms/step - loss: 1.8659 - accuracy: 0.2801 - val_loss: 1.8486 - val_accuracy: 0.2773\n",
            "Epoch 29/200\n",
            "61/61 [==============================] - 1s 15ms/step - loss: 1.8139 - accuracy: 0.3257 - val_loss: 1.8240 - val_accuracy: 0.2857\n",
            "Epoch 30/200\n",
            "61/61 [==============================] - 1s 15ms/step - loss: 1.8327 - accuracy: 0.2832 - val_loss: 1.8091 - val_accuracy: 0.3109\n",
            "Epoch 31/200\n",
            "61/61 [==============================] - 1s 15ms/step - loss: 1.8057 - accuracy: 0.3143 - val_loss: 1.8337 - val_accuracy: 0.3067\n",
            "Epoch 32/200\n",
            "61/61 [==============================] - 1s 15ms/step - loss: 1.8149 - accuracy: 0.3102 - val_loss: 1.8351 - val_accuracy: 0.2920\n",
            "Epoch 33/200\n",
            "61/61 [==============================] - 1s 15ms/step - loss: 1.8005 - accuracy: 0.3091 - val_loss: 1.8100 - val_accuracy: 0.3025\n",
            "Epoch 34/200\n",
            "61/61 [==============================] - 1s 15ms/step - loss: 1.8049 - accuracy: 0.3112 - val_loss: 1.7975 - val_accuracy: 0.3088\n",
            "Epoch 35/200\n",
            "61/61 [==============================] - 1s 15ms/step - loss: 1.8266 - accuracy: 0.3050 - val_loss: 1.8282 - val_accuracy: 0.3025\n",
            "Epoch 36/200\n",
            "61/61 [==============================] - 1s 15ms/step - loss: 1.8157 - accuracy: 0.3154 - val_loss: 1.8043 - val_accuracy: 0.3088\n",
            "Epoch 37/200\n",
            "61/61 [==============================] - 1s 15ms/step - loss: 1.7830 - accuracy: 0.3247 - val_loss: 1.8702 - val_accuracy: 0.2710\n",
            "Epoch 38/200\n",
            "61/61 [==============================] - 1s 15ms/step - loss: 1.7636 - accuracy: 0.3257 - val_loss: 1.8436 - val_accuracy: 0.2983\n",
            "Epoch 39/200\n",
            "61/61 [==============================] - 1s 15ms/step - loss: 1.7852 - accuracy: 0.3164 - val_loss: 1.8180 - val_accuracy: 0.3193\n",
            "Epoch 40/200\n",
            "61/61 [==============================] - 1s 15ms/step - loss: 1.7506 - accuracy: 0.3309 - val_loss: 1.7989 - val_accuracy: 0.3088\n",
            "Epoch 41/200\n",
            "61/61 [==============================] - 1s 15ms/step - loss: 1.7790 - accuracy: 0.3268 - val_loss: 1.7920 - val_accuracy: 0.3172\n",
            "Epoch 42/200\n",
            "61/61 [==============================] - 1s 16ms/step - loss: 1.7645 - accuracy: 0.3008 - val_loss: 1.8563 - val_accuracy: 0.3067\n",
            "Epoch 43/200\n",
            "61/61 [==============================] - 1s 15ms/step - loss: 1.7458 - accuracy: 0.3434 - val_loss: 1.8181 - val_accuracy: 0.3172\n",
            "Epoch 44/200\n",
            "61/61 [==============================] - 1s 15ms/step - loss: 1.7694 - accuracy: 0.3371 - val_loss: 1.7921 - val_accuracy: 0.3046\n",
            "Epoch 45/200\n",
            "61/61 [==============================] - 1s 16ms/step - loss: 1.7343 - accuracy: 0.3423 - val_loss: 1.7676 - val_accuracy: 0.3151\n",
            "Epoch 46/200\n",
            "61/61 [==============================] - 1s 16ms/step - loss: 1.7269 - accuracy: 0.3641 - val_loss: 1.7680 - val_accuracy: 0.3319\n",
            "Epoch 47/200\n",
            "61/61 [==============================] - 1s 16ms/step - loss: 1.7507 - accuracy: 0.3517 - val_loss: 1.8188 - val_accuracy: 0.3067\n",
            "Epoch 48/200\n",
            "61/61 [==============================] - 1s 15ms/step - loss: 1.7102 - accuracy: 0.3413 - val_loss: 1.7752 - val_accuracy: 0.3235\n",
            "Epoch 49/200\n",
            "61/61 [==============================] - 1s 15ms/step - loss: 1.7295 - accuracy: 0.3444 - val_loss: 1.7716 - val_accuracy: 0.3277\n",
            "Epoch 50/200\n",
            "61/61 [==============================] - 1s 15ms/step - loss: 1.7380 - accuracy: 0.3351 - val_loss: 1.7574 - val_accuracy: 0.3424\n",
            "Epoch 51/200\n",
            "61/61 [==============================] - 1s 15ms/step - loss: 1.7377 - accuracy: 0.3454 - val_loss: 1.7736 - val_accuracy: 0.3130\n",
            "Epoch 52/200\n",
            "61/61 [==============================] - 1s 15ms/step - loss: 1.7213 - accuracy: 0.3454 - val_loss: 1.7590 - val_accuracy: 0.3361\n",
            "Epoch 53/200\n",
            "61/61 [==============================] - 1s 15ms/step - loss: 1.7142 - accuracy: 0.3434 - val_loss: 1.7713 - val_accuracy: 0.3256\n",
            "Epoch 54/200\n",
            "61/61 [==============================] - 1s 15ms/step - loss: 1.7223 - accuracy: 0.3496 - val_loss: 1.7563 - val_accuracy: 0.3424\n",
            "Epoch 55/200\n",
            "61/61 [==============================] - 1s 15ms/step - loss: 1.7175 - accuracy: 0.3537 - val_loss: 1.7416 - val_accuracy: 0.3403\n",
            "Epoch 56/200\n",
            "61/61 [==============================] - 1s 16ms/step - loss: 1.7348 - accuracy: 0.3247 - val_loss: 1.7469 - val_accuracy: 0.3424\n",
            "Epoch 57/200\n",
            "61/61 [==============================] - 1s 15ms/step - loss: 1.6937 - accuracy: 0.3361 - val_loss: 1.7354 - val_accuracy: 0.3655\n",
            "Epoch 58/200\n",
            "61/61 [==============================] - 1s 16ms/step - loss: 1.6995 - accuracy: 0.3506 - val_loss: 1.7212 - val_accuracy: 0.3529\n",
            "Epoch 59/200\n",
            "61/61 [==============================] - 1s 15ms/step - loss: 1.6738 - accuracy: 0.3662 - val_loss: 1.7377 - val_accuracy: 0.3592\n",
            "Epoch 60/200\n",
            "61/61 [==============================] - 1s 16ms/step - loss: 1.6810 - accuracy: 0.3340 - val_loss: 1.7260 - val_accuracy: 0.3908\n",
            "Epoch 61/200\n",
            "61/61 [==============================] - 1s 16ms/step - loss: 1.6736 - accuracy: 0.3797 - val_loss: 1.7080 - val_accuracy: 0.3487\n",
            "Epoch 62/200\n",
            "61/61 [==============================] - 1s 15ms/step - loss: 1.6683 - accuracy: 0.3703 - val_loss: 1.7190 - val_accuracy: 0.3529\n",
            "Epoch 63/200\n",
            "61/61 [==============================] - 1s 15ms/step - loss: 1.6622 - accuracy: 0.3776 - val_loss: 1.7060 - val_accuracy: 0.3697\n",
            "Epoch 64/200\n",
            "61/61 [==============================] - 1s 15ms/step - loss: 1.6530 - accuracy: 0.3828 - val_loss: 1.7003 - val_accuracy: 0.3676\n",
            "Epoch 65/200\n",
            "61/61 [==============================] - 1s 16ms/step - loss: 1.6519 - accuracy: 0.3932 - val_loss: 1.7103 - val_accuracy: 0.3550\n",
            "Epoch 66/200\n",
            "61/61 [==============================] - 1s 15ms/step - loss: 1.6537 - accuracy: 0.3631 - val_loss: 1.7117 - val_accuracy: 0.3550\n",
            "Epoch 67/200\n",
            "61/61 [==============================] - 1s 16ms/step - loss: 1.6654 - accuracy: 0.3683 - val_loss: 1.7026 - val_accuracy: 0.3592\n",
            "Epoch 68/200\n",
            "61/61 [==============================] - 1s 15ms/step - loss: 1.6516 - accuracy: 0.3797 - val_loss: 1.6815 - val_accuracy: 0.3782\n",
            "Epoch 69/200\n",
            "61/61 [==============================] - 1s 15ms/step - loss: 1.6300 - accuracy: 0.3849 - val_loss: 1.6854 - val_accuracy: 0.3655\n",
            "Epoch 70/200\n",
            "61/61 [==============================] - 1s 15ms/step - loss: 1.6408 - accuracy: 0.3786 - val_loss: 1.6642 - val_accuracy: 0.3676\n",
            "Epoch 71/200\n",
            "61/61 [==============================] - 1s 15ms/step - loss: 1.6152 - accuracy: 0.4035 - val_loss: 1.7069 - val_accuracy: 0.3592\n",
            "Epoch 72/200\n",
            "61/61 [==============================] - 1s 15ms/step - loss: 1.6139 - accuracy: 0.3755 - val_loss: 1.6877 - val_accuracy: 0.3676\n",
            "Epoch 73/200\n",
            "61/61 [==============================] - 1s 15ms/step - loss: 1.6369 - accuracy: 0.3952 - val_loss: 1.6759 - val_accuracy: 0.3718\n",
            "Epoch 74/200\n",
            "61/61 [==============================] - 1s 15ms/step - loss: 1.5991 - accuracy: 0.3932 - val_loss: 1.6861 - val_accuracy: 0.3655\n",
            "Epoch 75/200\n",
            "61/61 [==============================] - 1s 15ms/step - loss: 1.5937 - accuracy: 0.4035 - val_loss: 1.6705 - val_accuracy: 0.3739\n",
            "Epoch 76/200\n",
            "61/61 [==============================] - 1s 15ms/step - loss: 1.6194 - accuracy: 0.3817 - val_loss: 1.6600 - val_accuracy: 0.3718\n",
            "Epoch 77/200\n",
            "61/61 [==============================] - 1s 15ms/step - loss: 1.5858 - accuracy: 0.4046 - val_loss: 1.6873 - val_accuracy: 0.3571\n",
            "Epoch 78/200\n",
            "61/61 [==============================] - 1s 15ms/step - loss: 1.5945 - accuracy: 0.3942 - val_loss: 1.6741 - val_accuracy: 0.3803\n",
            "Epoch 79/200\n",
            "61/61 [==============================] - 1s 15ms/step - loss: 1.5906 - accuracy: 0.4098 - val_loss: 1.6583 - val_accuracy: 0.3803\n",
            "Epoch 80/200\n",
            "61/61 [==============================] - 1s 15ms/step - loss: 1.5914 - accuracy: 0.4087 - val_loss: 1.6720 - val_accuracy: 0.3803\n",
            "Epoch 81/200\n",
            "61/61 [==============================] - 1s 15ms/step - loss: 1.5742 - accuracy: 0.4035 - val_loss: 1.6672 - val_accuracy: 0.3634\n",
            "Epoch 82/200\n",
            "61/61 [==============================] - 1s 15ms/step - loss: 1.5624 - accuracy: 0.4118 - val_loss: 1.6284 - val_accuracy: 0.3971\n",
            "Epoch 83/200\n",
            "61/61 [==============================] - 1s 15ms/step - loss: 1.5842 - accuracy: 0.3869 - val_loss: 1.6798 - val_accuracy: 0.3592\n",
            "Epoch 84/200\n",
            "61/61 [==============================] - 1s 15ms/step - loss: 1.5669 - accuracy: 0.4222 - val_loss: 1.6359 - val_accuracy: 0.4013\n",
            "Epoch 85/200\n",
            "61/61 [==============================] - 1s 15ms/step - loss: 1.5614 - accuracy: 0.4274 - val_loss: 1.6728 - val_accuracy: 0.3718\n",
            "Epoch 86/200\n",
            "61/61 [==============================] - 1s 15ms/step - loss: 1.5553 - accuracy: 0.4046 - val_loss: 1.6407 - val_accuracy: 0.3824\n",
            "Epoch 87/200\n",
            "61/61 [==============================] - 1s 15ms/step - loss: 1.5332 - accuracy: 0.4398 - val_loss: 1.6364 - val_accuracy: 0.3761\n",
            "Epoch 88/200\n",
            "61/61 [==============================] - 1s 15ms/step - loss: 1.5577 - accuracy: 0.4139 - val_loss: 1.6521 - val_accuracy: 0.3761\n",
            "Epoch 89/200\n",
            "61/61 [==============================] - 1s 15ms/step - loss: 1.5566 - accuracy: 0.4180 - val_loss: 1.6163 - val_accuracy: 0.4055\n",
            "Epoch 90/200\n",
            "61/61 [==============================] - 1s 15ms/step - loss: 1.5176 - accuracy: 0.4315 - val_loss: 1.6318 - val_accuracy: 0.3824\n",
            "Epoch 91/200\n",
            "61/61 [==============================] - 1s 15ms/step - loss: 1.5595 - accuracy: 0.4035 - val_loss: 1.6110 - val_accuracy: 0.4097\n",
            "Epoch 92/200\n",
            "61/61 [==============================] - 1s 15ms/step - loss: 1.5274 - accuracy: 0.4243 - val_loss: 1.6407 - val_accuracy: 0.4013\n",
            "Epoch 93/200\n",
            "61/61 [==============================] - 1s 15ms/step - loss: 1.5138 - accuracy: 0.4409 - val_loss: 1.6230 - val_accuracy: 0.3929\n",
            "Epoch 94/200\n",
            "61/61 [==============================] - 1s 15ms/step - loss: 1.5234 - accuracy: 0.4191 - val_loss: 1.6149 - val_accuracy: 0.3887\n",
            "Epoch 95/200\n",
            "61/61 [==============================] - 1s 15ms/step - loss: 1.5299 - accuracy: 0.4253 - val_loss: 1.6313 - val_accuracy: 0.3761\n",
            "Epoch 96/200\n",
            "61/61 [==============================] - 1s 15ms/step - loss: 1.5085 - accuracy: 0.4357 - val_loss: 1.5990 - val_accuracy: 0.3971\n",
            "Epoch 97/200\n",
            "61/61 [==============================] - 1s 15ms/step - loss: 1.5040 - accuracy: 0.4357 - val_loss: 1.6609 - val_accuracy: 0.3697\n",
            "Epoch 98/200\n",
            "61/61 [==============================] - 1s 15ms/step - loss: 1.5018 - accuracy: 0.4243 - val_loss: 1.5951 - val_accuracy: 0.3929\n",
            "Epoch 99/200\n",
            "61/61 [==============================] - 1s 16ms/step - loss: 1.5142 - accuracy: 0.4160 - val_loss: 1.5815 - val_accuracy: 0.4181\n",
            "Epoch 100/200\n",
            "61/61 [==============================] - 1s 16ms/step - loss: 1.4994 - accuracy: 0.4440 - val_loss: 1.5973 - val_accuracy: 0.3950\n",
            "Epoch 101/200\n",
            "61/61 [==============================] - 1s 15ms/step - loss: 1.4904 - accuracy: 0.4637 - val_loss: 1.5930 - val_accuracy: 0.4118\n",
            "Epoch 102/200\n",
            "61/61 [==============================] - 1s 15ms/step - loss: 1.4761 - accuracy: 0.4461 - val_loss: 1.5967 - val_accuracy: 0.4202\n",
            "Epoch 103/200\n",
            "61/61 [==============================] - 1s 15ms/step - loss: 1.4740 - accuracy: 0.4409 - val_loss: 1.6193 - val_accuracy: 0.3845\n",
            "Epoch 104/200\n",
            "61/61 [==============================] - 1s 15ms/step - loss: 1.4728 - accuracy: 0.4512 - val_loss: 1.5937 - val_accuracy: 0.4055\n",
            "Epoch 105/200\n",
            "61/61 [==============================] - 1s 16ms/step - loss: 1.4967 - accuracy: 0.4398 - val_loss: 1.6054 - val_accuracy: 0.3950\n",
            "Epoch 106/200\n",
            "61/61 [==============================] - 1s 15ms/step - loss: 1.4554 - accuracy: 0.4512 - val_loss: 1.5484 - val_accuracy: 0.4202\n",
            "Epoch 107/200\n",
            "61/61 [==============================] - 1s 15ms/step - loss: 1.4721 - accuracy: 0.4253 - val_loss: 1.5794 - val_accuracy: 0.3971\n",
            "Epoch 108/200\n",
            "61/61 [==============================] - 1s 15ms/step - loss: 1.4620 - accuracy: 0.4637 - val_loss: 1.5511 - val_accuracy: 0.4307\n",
            "Epoch 109/200\n",
            "61/61 [==============================] - 1s 15ms/step - loss: 1.4317 - accuracy: 0.4876 - val_loss: 1.6037 - val_accuracy: 0.4181\n",
            "Epoch 110/200\n",
            "61/61 [==============================] - 1s 15ms/step - loss: 1.4373 - accuracy: 0.4564 - val_loss: 1.5562 - val_accuracy: 0.4118\n",
            "Epoch 111/200\n",
            "61/61 [==============================] - 1s 16ms/step - loss: 1.4442 - accuracy: 0.4616 - val_loss: 1.5531 - val_accuracy: 0.4286\n",
            "Epoch 112/200\n",
            "61/61 [==============================] - 1s 15ms/step - loss: 1.4379 - accuracy: 0.4668 - val_loss: 1.6221 - val_accuracy: 0.3971\n",
            "Epoch 113/200\n",
            "61/61 [==============================] - 1s 15ms/step - loss: 1.4422 - accuracy: 0.4637 - val_loss: 1.5620 - val_accuracy: 0.4076\n",
            "Epoch 114/200\n",
            "61/61 [==============================] - 1s 16ms/step - loss: 1.4668 - accuracy: 0.4378 - val_loss: 1.5886 - val_accuracy: 0.4076\n",
            "Epoch 115/200\n",
            "61/61 [==============================] - 1s 15ms/step - loss: 1.4136 - accuracy: 0.4689 - val_loss: 1.5786 - val_accuracy: 0.4097\n",
            "Epoch 116/200\n",
            "61/61 [==============================] - 1s 15ms/step - loss: 1.4129 - accuracy: 0.4730 - val_loss: 1.5670 - val_accuracy: 0.4286\n",
            "Epoch 117/200\n",
            "61/61 [==============================] - 1s 15ms/step - loss: 1.4261 - accuracy: 0.4647 - val_loss: 1.5565 - val_accuracy: 0.4244\n",
            "Epoch 118/200\n",
            "61/61 [==============================] - 1s 15ms/step - loss: 1.4172 - accuracy: 0.4668 - val_loss: 1.5746 - val_accuracy: 0.4139\n",
            "Epoch 119/200\n",
            "61/61 [==============================] - 1s 15ms/step - loss: 1.4122 - accuracy: 0.4668 - val_loss: 1.5497 - val_accuracy: 0.4181\n",
            "Epoch 120/200\n",
            "61/61 [==============================] - 1s 15ms/step - loss: 1.4196 - accuracy: 0.4523 - val_loss: 1.5400 - val_accuracy: 0.4223\n",
            "Epoch 121/200\n",
            "61/61 [==============================] - 1s 15ms/step - loss: 1.4051 - accuracy: 0.4865 - val_loss: 1.5590 - val_accuracy: 0.4097\n",
            "Epoch 122/200\n",
            "61/61 [==============================] - 1s 16ms/step - loss: 1.3945 - accuracy: 0.4772 - val_loss: 1.5376 - val_accuracy: 0.4328\n",
            "Epoch 123/200\n",
            "61/61 [==============================] - 1s 15ms/step - loss: 1.3863 - accuracy: 0.4699 - val_loss: 1.5621 - val_accuracy: 0.4055\n",
            "Epoch 124/200\n",
            "61/61 [==============================] - 1s 15ms/step - loss: 1.3826 - accuracy: 0.5031 - val_loss: 1.5194 - val_accuracy: 0.4433\n",
            "Epoch 125/200\n",
            "61/61 [==============================] - 1s 16ms/step - loss: 1.3914 - accuracy: 0.5031 - val_loss: 1.5593 - val_accuracy: 0.4160\n",
            "Epoch 126/200\n",
            "61/61 [==============================] - 1s 16ms/step - loss: 1.4035 - accuracy: 0.4585 - val_loss: 1.5205 - val_accuracy: 0.4349\n",
            "Epoch 127/200\n",
            "61/61 [==============================] - 1s 15ms/step - loss: 1.3882 - accuracy: 0.4813 - val_loss: 1.5785 - val_accuracy: 0.3908\n",
            "Epoch 128/200\n",
            "61/61 [==============================] - 1s 15ms/step - loss: 1.3717 - accuracy: 0.5104 - val_loss: 1.5295 - val_accuracy: 0.4286\n",
            "Epoch 129/200\n",
            "61/61 [==============================] - 1s 16ms/step - loss: 1.3597 - accuracy: 0.4855 - val_loss: 1.5645 - val_accuracy: 0.4223\n",
            "Epoch 130/200\n",
            "61/61 [==============================] - 1s 16ms/step - loss: 1.3680 - accuracy: 0.5021 - val_loss: 1.5412 - val_accuracy: 0.4349\n",
            "Epoch 131/200\n",
            "61/61 [==============================] - 1s 15ms/step - loss: 1.3392 - accuracy: 0.4979 - val_loss: 1.5277 - val_accuracy: 0.4244\n",
            "Epoch 132/200\n",
            "61/61 [==============================] - 1s 16ms/step - loss: 1.3591 - accuracy: 0.4647 - val_loss: 1.5259 - val_accuracy: 0.4307\n",
            "Epoch 133/200\n",
            "61/61 [==============================] - 1s 16ms/step - loss: 1.3599 - accuracy: 0.4834 - val_loss: 1.5298 - val_accuracy: 0.4265\n",
            "Epoch 134/200\n",
            "61/61 [==============================] - 1s 15ms/step - loss: 1.3308 - accuracy: 0.5124 - val_loss: 1.5128 - val_accuracy: 0.4328\n",
            "Epoch 135/200\n",
            "61/61 [==============================] - 1s 15ms/step - loss: 1.3532 - accuracy: 0.5093 - val_loss: 1.5290 - val_accuracy: 0.4412\n",
            "Epoch 136/200\n",
            "61/61 [==============================] - 1s 16ms/step - loss: 1.3371 - accuracy: 0.4927 - val_loss: 1.5177 - val_accuracy: 0.4307\n",
            "Epoch 137/200\n",
            "61/61 [==============================] - 1s 16ms/step - loss: 1.3182 - accuracy: 0.5197 - val_loss: 1.5523 - val_accuracy: 0.4244\n",
            "Epoch 138/200\n",
            "61/61 [==============================] - 1s 15ms/step - loss: 1.3479 - accuracy: 0.5073 - val_loss: 1.5298 - val_accuracy: 0.4496\n",
            "Epoch 139/200\n",
            "61/61 [==============================] - 1s 16ms/step - loss: 1.3494 - accuracy: 0.5041 - val_loss: 1.5345 - val_accuracy: 0.4454\n",
            "Epoch 140/200\n",
            "61/61 [==============================] - 1s 15ms/step - loss: 1.3140 - accuracy: 0.5228 - val_loss: 1.5386 - val_accuracy: 0.4328\n",
            "Epoch 141/200\n",
            "61/61 [==============================] - 1s 15ms/step - loss: 1.3250 - accuracy: 0.5145 - val_loss: 1.4972 - val_accuracy: 0.4538\n",
            "Epoch 142/200\n",
            "61/61 [==============================] - 1s 16ms/step - loss: 1.3354 - accuracy: 0.5124 - val_loss: 1.5184 - val_accuracy: 0.4370\n",
            "Epoch 143/200\n",
            "61/61 [==============================] - 1s 15ms/step - loss: 1.3177 - accuracy: 0.5207 - val_loss: 1.5218 - val_accuracy: 0.4328\n",
            "Epoch 144/200\n",
            "61/61 [==============================] - 1s 16ms/step - loss: 1.3033 - accuracy: 0.5290 - val_loss: 1.4843 - val_accuracy: 0.4454\n",
            "Epoch 145/200\n",
            "61/61 [==============================] - 1s 15ms/step - loss: 1.3138 - accuracy: 0.5031 - val_loss: 1.5509 - val_accuracy: 0.4307\n",
            "Epoch 146/200\n",
            "61/61 [==============================] - 1s 15ms/step - loss: 1.3157 - accuracy: 0.5207 - val_loss: 1.4875 - val_accuracy: 0.4601\n",
            "Epoch 147/200\n",
            "61/61 [==============================] - 1s 15ms/step - loss: 1.3051 - accuracy: 0.5176 - val_loss: 1.4786 - val_accuracy: 0.4601\n",
            "Epoch 148/200\n",
            "61/61 [==============================] - 1s 15ms/step - loss: 1.3270 - accuracy: 0.5041 - val_loss: 1.4925 - val_accuracy: 0.4517\n",
            "Epoch 149/200\n",
            "61/61 [==============================] - 1s 16ms/step - loss: 1.3023 - accuracy: 0.5322 - val_loss: 1.4856 - val_accuracy: 0.4643\n",
            "Epoch 150/200\n",
            "61/61 [==============================] - 1s 17ms/step - loss: 1.2907 - accuracy: 0.5353 - val_loss: 1.4909 - val_accuracy: 0.4349\n",
            "Epoch 151/200\n",
            "61/61 [==============================] - 1s 17ms/step - loss: 1.2813 - accuracy: 0.5280 - val_loss: 1.4931 - val_accuracy: 0.4517\n",
            "Epoch 152/200\n",
            "61/61 [==============================] - 1s 18ms/step - loss: 1.2852 - accuracy: 0.5280 - val_loss: 1.5290 - val_accuracy: 0.4328\n",
            "Epoch 153/200\n",
            "61/61 [==============================] - 1s 17ms/step - loss: 1.2803 - accuracy: 0.5353 - val_loss: 1.4903 - val_accuracy: 0.4433\n",
            "Epoch 154/200\n",
            "61/61 [==============================] - 1s 17ms/step - loss: 1.2898 - accuracy: 0.5394 - val_loss: 1.4984 - val_accuracy: 0.4622\n",
            "Epoch 155/200\n",
            "61/61 [==============================] - 1s 16ms/step - loss: 1.2813 - accuracy: 0.5249 - val_loss: 1.4546 - val_accuracy: 0.4790\n",
            "Epoch 156/200\n",
            "61/61 [==============================] - 1s 15ms/step - loss: 1.2809 - accuracy: 0.5425 - val_loss: 1.4965 - val_accuracy: 0.4601\n",
            "Epoch 157/200\n",
            "61/61 [==============================] - 1s 15ms/step - loss: 1.2674 - accuracy: 0.5249 - val_loss: 1.4960 - val_accuracy: 0.4517\n",
            "Epoch 158/200\n",
            "61/61 [==============================] - 1s 15ms/step - loss: 1.2327 - accuracy: 0.5446 - val_loss: 1.4762 - val_accuracy: 0.4622\n",
            "Epoch 159/200\n",
            "61/61 [==============================] - 1s 16ms/step - loss: 1.2489 - accuracy: 0.5394 - val_loss: 1.4903 - val_accuracy: 0.4622\n",
            "Epoch 160/200\n",
            "61/61 [==============================] - 1s 15ms/step - loss: 1.2581 - accuracy: 0.5342 - val_loss: 1.4760 - val_accuracy: 0.4580\n",
            "Epoch 161/200\n",
            "61/61 [==============================] - 1s 15ms/step - loss: 1.2395 - accuracy: 0.5394 - val_loss: 1.5351 - val_accuracy: 0.4412\n",
            "Epoch 162/200\n",
            "61/61 [==============================] - 1s 15ms/step - loss: 1.2646 - accuracy: 0.5290 - val_loss: 1.4935 - val_accuracy: 0.4517\n",
            "Epoch 163/200\n",
            "61/61 [==============================] - 1s 15ms/step - loss: 1.2384 - accuracy: 0.5508 - val_loss: 1.5321 - val_accuracy: 0.4349\n",
            "Epoch 164/200\n",
            "61/61 [==============================] - 1s 15ms/step - loss: 1.2344 - accuracy: 0.5477 - val_loss: 1.5130 - val_accuracy: 0.4391\n",
            "Epoch 165/200\n",
            "61/61 [==============================] - 1s 16ms/step - loss: 1.2254 - accuracy: 0.5488 - val_loss: 1.4935 - val_accuracy: 0.4454\n",
            "Epoch 166/200\n",
            "61/61 [==============================] - 1s 16ms/step - loss: 1.2007 - accuracy: 0.5664 - val_loss: 1.4849 - val_accuracy: 0.4538\n",
            "Epoch 167/200\n",
            "61/61 [==============================] - 1s 15ms/step - loss: 1.2384 - accuracy: 0.5415 - val_loss: 1.4838 - val_accuracy: 0.4685\n",
            "Epoch 168/200\n",
            "61/61 [==============================] - 1s 16ms/step - loss: 1.2231 - accuracy: 0.5353 - val_loss: 1.4862 - val_accuracy: 0.4643\n",
            "Epoch 169/200\n",
            "61/61 [==============================] - 1s 15ms/step - loss: 1.2037 - accuracy: 0.5405 - val_loss: 1.4886 - val_accuracy: 0.4685\n",
            "Epoch 170/200\n",
            "61/61 [==============================] - 1s 15ms/step - loss: 1.2158 - accuracy: 0.5467 - val_loss: 1.5245 - val_accuracy: 0.4370\n",
            "Epoch 171/200\n",
            "61/61 [==============================] - 1s 15ms/step - loss: 1.2197 - accuracy: 0.5456 - val_loss: 1.5120 - val_accuracy: 0.4433\n",
            "Epoch 172/200\n",
            "61/61 [==============================] - 1s 15ms/step - loss: 1.2134 - accuracy: 0.5373 - val_loss: 1.5043 - val_accuracy: 0.4748\n",
            "Epoch 173/200\n",
            "61/61 [==============================] - 1s 15ms/step - loss: 1.2216 - accuracy: 0.5539 - val_loss: 1.4579 - val_accuracy: 0.4664\n",
            "Epoch 174/200\n",
            "61/61 [==============================] - 1s 15ms/step - loss: 1.2078 - accuracy: 0.5685 - val_loss: 1.4610 - val_accuracy: 0.4664\n",
            "Epoch 175/200\n",
            "61/61 [==============================] - 1s 15ms/step - loss: 1.1979 - accuracy: 0.5539 - val_loss: 1.4886 - val_accuracy: 0.4580\n",
            "Epoch 176/200\n",
            "61/61 [==============================] - 1s 15ms/step - loss: 1.1993 - accuracy: 0.5830 - val_loss: 1.5014 - val_accuracy: 0.4538\n",
            "Epoch 177/200\n",
            "61/61 [==============================] - 1s 16ms/step - loss: 1.1884 - accuracy: 0.5674 - val_loss: 1.5149 - val_accuracy: 0.4538\n",
            "Epoch 178/200\n",
            "61/61 [==============================] - 1s 15ms/step - loss: 1.1933 - accuracy: 0.5498 - val_loss: 1.4685 - val_accuracy: 0.4664\n",
            "Epoch 179/200\n",
            "61/61 [==============================] - 1s 16ms/step - loss: 1.1708 - accuracy: 0.5654 - val_loss: 1.4606 - val_accuracy: 0.4916\n",
            "Epoch 180/200\n",
            "61/61 [==============================] - 1s 16ms/step - loss: 1.1678 - accuracy: 0.5830 - val_loss: 1.4866 - val_accuracy: 0.4601\n",
            "Epoch 181/200\n",
            "61/61 [==============================] - 1s 16ms/step - loss: 1.1635 - accuracy: 0.5643 - val_loss: 1.4938 - val_accuracy: 0.4664\n",
            "Epoch 182/200\n",
            "61/61 [==============================] - 1s 16ms/step - loss: 1.1688 - accuracy: 0.5737 - val_loss: 1.4588 - val_accuracy: 0.4853\n",
            "Epoch 183/200\n",
            "61/61 [==============================] - 1s 16ms/step - loss: 1.1541 - accuracy: 0.5747 - val_loss: 1.4754 - val_accuracy: 0.4601\n",
            "Epoch 184/200\n",
            "61/61 [==============================] - 1s 16ms/step - loss: 1.1623 - accuracy: 0.5778 - val_loss: 1.4534 - val_accuracy: 0.4769\n",
            "Epoch 185/200\n",
            "61/61 [==============================] - 1s 16ms/step - loss: 1.1352 - accuracy: 0.5799 - val_loss: 1.4843 - val_accuracy: 0.4580\n",
            "Epoch 186/200\n",
            "61/61 [==============================] - 1s 16ms/step - loss: 1.1512 - accuracy: 0.5664 - val_loss: 1.4749 - val_accuracy: 0.4622\n",
            "Epoch 187/200\n",
            "61/61 [==============================] - 1s 17ms/step - loss: 1.1598 - accuracy: 0.5934 - val_loss: 1.4478 - val_accuracy: 0.4748\n",
            "Epoch 188/200\n",
            "61/61 [==============================] - 1s 16ms/step - loss: 1.1520 - accuracy: 0.5685 - val_loss: 1.4641 - val_accuracy: 0.4685\n",
            "Epoch 189/200\n",
            "61/61 [==============================] - 1s 16ms/step - loss: 1.1673 - accuracy: 0.5820 - val_loss: 1.5253 - val_accuracy: 0.4622\n",
            "Epoch 190/200\n",
            "61/61 [==============================] - 1s 16ms/step - loss: 1.1357 - accuracy: 0.6006 - val_loss: 1.4557 - val_accuracy: 0.4664\n",
            "Epoch 191/200\n",
            "61/61 [==============================] - 1s 15ms/step - loss: 1.1307 - accuracy: 0.5768 - val_loss: 1.4670 - val_accuracy: 0.4580\n",
            "Epoch 192/200\n",
            "61/61 [==============================] - 1s 15ms/step - loss: 1.1288 - accuracy: 0.5560 - val_loss: 1.4718 - val_accuracy: 0.4643\n",
            "Epoch 193/200\n",
            "61/61 [==============================] - 1s 15ms/step - loss: 1.1495 - accuracy: 0.5705 - val_loss: 1.5063 - val_accuracy: 0.4706\n",
            "Epoch 194/200\n",
            "61/61 [==============================] - 1s 16ms/step - loss: 1.1682 - accuracy: 0.5830 - val_loss: 1.4606 - val_accuracy: 0.4622\n",
            "Epoch 195/200\n",
            "61/61 [==============================] - 1s 15ms/step - loss: 1.1336 - accuracy: 0.5633 - val_loss: 1.4576 - val_accuracy: 0.4790\n",
            "Epoch 196/200\n",
            "61/61 [==============================] - 1s 16ms/step - loss: 1.0930 - accuracy: 0.6017 - val_loss: 1.4513 - val_accuracy: 0.4832\n",
            "Epoch 197/200\n",
            "61/61 [==============================] - 1s 16ms/step - loss: 1.1348 - accuracy: 0.5934 - val_loss: 1.4515 - val_accuracy: 0.4643\n",
            "Epoch 198/200\n",
            "61/61 [==============================] - 1s 16ms/step - loss: 1.1327 - accuracy: 0.5809 - val_loss: 1.4449 - val_accuracy: 0.4769\n",
            "Epoch 199/200\n",
            "61/61 [==============================] - 1s 16ms/step - loss: 1.1201 - accuracy: 0.5892 - val_loss: 1.4528 - val_accuracy: 0.4580\n",
            "Epoch 200/200\n",
            "61/61 [==============================] - 1s 16ms/step - loss: 1.1173 - accuracy: 0.5954 - val_loss: 1.4594 - val_accuracy: 0.4769\n"
          ],
          "name": "stdout"
        }
      ]
    },
    {
      "cell_type": "markdown",
      "metadata": {
        "id": "PVTLKTmw7ij9"
      },
      "source": [
        "Let's plot the loss:"
      ]
    },
    {
      "cell_type": "code",
      "metadata": {
        "id": "nuxBIcGe4Hpo",
        "colab": {
          "base_uri": "https://localhost:8080/",
          "height": 295
        },
        "outputId": "a21dfb76-d0f4-4e58-d612-c71d0dcd9abb"
      },
      "source": [
        "# plt.plot(cnnhistory.history['loss'])\n",
        "# plt.plot(cnnhistory.history['val_loss'])\n",
        "# plt.title('model loss')\n",
        "# plt.ylabel('loss')\n",
        "# plt.xlabel('epoch')\n",
        "# plt.legend(['train', 'test'], loc='upper left')\n",
        "# plt.show()\n",
        "\n",
        "plt.plot(cnnhistory.history['loss'])\n",
        "plt.plot(cnnhistory.history['val_loss'])\n",
        "plt.title('model loss')\n",
        "plt.ylabel('loss')\n",
        "plt.xlabel('epoch')\n",
        "plt.legend(['train', 'test'], loc='upper left')\n",
        "plt.show()"
      ],
      "execution_count": null,
      "outputs": [
        {
          "output_type": "display_data",
          "data": {
            "image/png": "[encoded data removed]",
            "text/plain": [
              "<Figure size 432x288 with 1 Axes>"
            ]
          },
          "metadata": {
            "tags": [],
            "needs_background": "light"
          }
        }
      ]
    },
    {
      "cell_type": "markdown",
      "metadata": {
        "id": "LooUuBk-7kLY"
      },
      "source": [
        "And now let's plot the accuracy:"
      ]
    },
    {
      "cell_type": "code",
      "metadata": {
        "id": "s7tzH-4Z7dRC",
        "colab": {
          "base_uri": "https://localhost:8080/",
          "height": 295
        },
        "outputId": "995dd928-c962-4345-dc97-e0f3f95aa58b"
      },
      "source": [
        "# plt.plot(cnnhistory.history['acc'])\n",
        "# plt.plot(cnnhistory.history['val_acc'])\n",
        "# plt.title('model accuracy')\n",
        "# plt.ylabel('acc')\n",
        "# plt.xlabel('epoch')\n",
        "# plt.legend(['train', 'test'], loc='upper left')\n",
        "# plt.show()\n",
        "\n",
        "plt.plot(cnnhistory.history['accuracy'])\n",
        "plt.plot(cnnhistory.history['val_accuracy'])\n",
        "plt.title('model accuracy')\n",
        "plt.ylabel('accuracy')\n",
        "plt.xlabel('epoch')\n",
        "plt.legend(['train', 'test'], loc='upper left')\n",
        "plt.show()\n"
      ],
      "execution_count": null,
      "outputs": [
        {
          "output_type": "display_data",
          "data": {
            "image/png": "[encoded data removed]",
            "text/plain": [
              "<Figure size 432x288 with 1 Axes>"
            ]
          },
          "metadata": {
            "tags": [],
            "needs_background": "light"
          }
        }
      ]
    },
    {
      "cell_type": "code",
      "metadata": {
        "id": "gTf-EFZB7qTo",
        "colab": {
          "base_uri": "https://localhost:8080/",
          "height": 87
        },
        "outputId": "6ed2ba42-83f6-4cb4-ac63-822c06f93ff9"
      },
      "source": [
        "predictions = model.predict_classes(x_testcnn)"
      ],
      "execution_count": null,
      "outputs": [
        {
          "output_type": "stream",
          "text": [
            "WARNING:tensorflow:From <ipython-input-32-601d08084939>:1: Sequential.predict_classes (from tensorflow.python.keras.engine.sequential) is deprecated and will be removed after 2021-01-01.\n",
            "Instructions for updating:\n",
            "Please use instead:* `np.argmax(model.predict(x), axis=-1)`,   if your model does multi-class classification   (e.g. if it uses a `softmax` last-layer activation).* `(model.predict(x) > 0.5).astype(\"int32\")`,   if your model does binary classification   (e.g. if it uses a `sigmoid` last-layer activation).\n"
          ],
          "name": "stdout"
        }
      ]
    },
    {
      "cell_type": "code",
      "metadata": {
        "id": "o3Neer7DAjED",
        "colab": {
          "base_uri": "https://localhost:8080/",
          "height": 386
        },
        "outputId": "a1241528-664c-48c9-e193-96e9f8309c1c"
      },
      "source": [
        "predictions"
      ],
      "execution_count": null,
      "outputs": [
        {
          "output_type": "execute_result",
          "data": {
            "text/plain": [
              "array([3, 7, 2, 3, 6, 3, 2, 2, 1, 1, 0, 4, 2, 4, 2, 0, 5, 6, 2, 4, 0, 6,\n",
              "       1, 4, 7, 4, 0, 2, 7, 0, 7, 7, 4, 1, 6, 2, 0, 2, 0, 5, 3, 1, 2, 4,\n",
              "       0, 5, 0, 2, 1, 7, 1, 7, 3, 3, 3, 6, 4, 3, 2, 2, 1, 4, 6, 3, 1, 2,\n",
              "       4, 4, 2, 2, 3, 2, 6, 7, 2, 4, 0, 4, 0, 0, 0, 3, 7, 2, 1, 7, 1, 1,\n",
              "       7, 7, 6, 7, 1, 7, 2, 2, 3, 1, 3, 3, 5, 7, 7, 4, 7, 1, 7, 2, 1, 7,\n",
              "       4, 2, 1, 4, 2, 4, 0, 1, 2, 0, 3, 2, 0, 2, 7, 6, 5, 3, 1, 6, 3, 3,\n",
              "       2, 2, 4, 6, 0, 2, 5, 5, 1, 2, 1, 5, 3, 1, 4, 4, 3, 3, 5, 2, 2, 1,\n",
              "       4, 7, 5, 6, 6, 7, 2, 2, 2, 1, 5, 7, 1, 7, 2, 2, 6, 2, 3, 4, 4, 7,\n",
              "       5, 4, 4, 7, 4, 4, 0, 5, 6, 2, 2, 6, 1, 3, 5, 5, 2, 2, 2, 2, 6, 0,\n",
              "       7, 6, 3, 6, 5, 3, 4, 7, 5, 2, 4, 4, 3, 3, 3, 2, 0, 2, 7, 1, 7, 2,\n",
              "       4, 2, 7, 7, 7, 2, 4, 3, 2, 3, 3, 2, 1, 2, 4, 2, 2, 1, 2, 2, 7, 0,\n",
              "       2, 2, 6, 1, 4, 3, 5, 6, 3, 2, 4, 2, 3, 6, 7, 1, 5, 0, 2, 4, 4, 1,\n",
              "       5, 1, 7, 2, 4, 1, 2, 3, 7, 6, 1, 2, 6, 2, 4, 4, 4, 2, 3, 4, 6, 6,\n",
              "       0, 1, 4, 6, 2, 2, 2, 4, 3, 6, 4, 1, 3, 3, 7, 5, 7, 3, 6, 3, 2, 5,\n",
              "       2, 0, 6, 5, 4, 0, 5, 2, 0, 5, 2, 0, 4, 1, 4, 2, 4, 2, 0, 3, 3, 3,\n",
              "       2, 4, 2, 7, 0, 2, 3, 1, 6, 4, 7, 1, 3, 5, 1, 5, 7, 2, 2, 2, 7, 5,\n",
              "       4, 5, 2, 5, 5, 2, 2, 0, 2, 2, 2, 2, 2, 4, 6, 0, 5, 4, 5, 2, 6, 2,\n",
              "       2, 7, 7, 1, 0, 6, 0, 2, 7, 2, 2, 2, 1, 1, 4, 5, 6, 4, 2, 2, 2, 2,\n",
              "       4, 2, 7, 2, 2, 0, 2, 3, 6, 1, 4, 2, 7, 3, 3, 2, 4, 5, 2, 4, 5, 4,\n",
              "       0, 5, 2, 2, 0, 5, 6, 4, 4, 4, 0, 3, 0, 1, 2, 2, 0, 2, 2, 6, 3, 2,\n",
              "       6, 3, 2, 3, 4, 4, 3, 4, 3, 3, 3, 6, 3, 3, 4, 5, 7, 4, 7, 4, 7, 1,\n",
              "       6, 2, 4, 6, 3, 5, 1, 3, 1, 1, 2, 1, 4, 5])"
            ]
          },
          "metadata": {
            "tags": []
          },
          "execution_count": 33
        }
      ]
    },
    {
      "cell_type": "code",
      "metadata": {
        "id": "P28bDU8_Am-l",
        "colab": {
          "base_uri": "https://localhost:8080/",
          "height": 386
        },
        "outputId": "55259002-6d86-40bf-d25f-5c95dfd84bf6"
      },
      "source": [
        "y_test"
      ],
      "execution_count": null,
      "outputs": [
        {
          "output_type": "execute_result",
          "data": {
            "text/plain": [
              "array([1, 7, 1, 3, 0, 6, 2, 5, 1, 4, 1, 3, 1, 4, 7, 0, 5, 6, 5, 5, 5, 1,\n",
              "       2, 4, 6, 2, 1, 6, 6, 0, 7, 7, 6, 3, 1, 2, 1, 0, 6, 2, 5, 5, 4, 4,\n",
              "       0, 5, 6, 2, 1, 6, 5, 7, 5, 3, 6, 6, 7, 5, 2, 2, 1, 4, 6, 2, 1, 0,\n",
              "       4, 7, 4, 2, 3, 7, 6, 7, 6, 6, 6, 4, 3, 1, 6, 0, 7, 3, 1, 7, 1, 1,\n",
              "       3, 7, 6, 7, 3, 7, 2, 7, 3, 3, 2, 3, 5, 7, 3, 6, 2, 1, 7, 3, 3, 7,\n",
              "       4, 3, 1, 2, 7, 4, 0, 0, 6, 3, 3, 2, 1, 0, 7, 6, 2, 3, 1, 6, 3, 5,\n",
              "       0, 6, 6, 7, 0, 3, 5, 5, 1, 2, 0, 6, 1, 1, 4, 4, 6, 3, 5, 6, 2, 3,\n",
              "       4, 7, 5, 6, 6, 7, 4, 4, 2, 5, 5, 7, 1, 7, 7, 1, 7, 7, 5, 4, 4, 0,\n",
              "       5, 4, 2, 1, 4, 2, 2, 3, 6, 1, 2, 6, 1, 6, 6, 2, 3, 4, 2, 2, 6, 0,\n",
              "       7, 2, 2, 5, 3, 3, 3, 7, 5, 2, 7, 4, 5, 1, 2, 5, 3, 4, 6, 3, 2, 3,\n",
              "       6, 7, 4, 7, 6, 5, 4, 5, 7, 0, 3, 2, 1, 7, 7, 2, 2, 0, 5, 7, 6, 1,\n",
              "       4, 2, 4, 1, 4, 5, 7, 6, 1, 2, 4, 4, 7, 1, 7, 3, 3, 0, 2, 4, 3, 1,\n",
              "       5, 4, 7, 3, 6, 6, 2, 3, 5, 0, 3, 4, 6, 6, 2, 4, 4, 6, 1, 4, 6, 6,\n",
              "       6, 3, 4, 1, 7, 2, 5, 4, 3, 6, 4, 1, 5, 0, 5, 5, 6, 6, 4, 6, 2, 5,\n",
              "       0, 1, 2, 5, 6, 7, 5, 6, 2, 5, 2, 0, 6, 1, 4, 6, 4, 4, 3, 3, 3, 3,\n",
              "       5, 7, 2, 7, 3, 4, 3, 1, 1, 4, 7, 4, 3, 5, 3, 5, 3, 3, 5, 5, 7, 5,\n",
              "       4, 2, 0, 5, 2, 0, 7, 2, 6, 5, 2, 7, 3, 4, 6, 3, 5, 5, 2, 2, 6, 6,\n",
              "       2, 3, 4, 1, 2, 2, 0, 2, 7, 3, 5, 3, 2, 1, 4, 5, 1, 4, 2, 6, 7, 2,\n",
              "       4, 2, 7, 0, 2, 0, 4, 5, 2, 1, 6, 6, 7, 4, 3, 4, 4, 6, 2, 3, 3, 4,\n",
              "       6, 5, 2, 5, 0, 5, 6, 4, 7, 2, 0, 3, 7, 1, 2, 7, 1, 2, 2, 6, 5, 2,\n",
              "       6, 6, 7, 3, 6, 2, 3, 2, 5, 3, 3, 6, 3, 4, 2, 3, 6, 4, 7, 4, 7, 0,\n",
              "       6, 3, 4, 6, 6, 5, 1, 3, 6, 1, 5, 1, 4, 6])"
            ]
          },
          "metadata": {
            "tags": []
          },
          "execution_count": 34
        }
      ]
    },
    {
      "cell_type": "code",
      "metadata": {
        "id": "f2OBvtYwA3Ax"
      },
      "source": [
        "new_Ytest = y_test.astype(int)"
      ],
      "execution_count": null,
      "outputs": []
    },
    {
      "cell_type": "code",
      "metadata": {
        "id": "W9ZH7UnbA6Px",
        "colab": {
          "base_uri": "https://localhost:8080/",
          "height": 386
        },
        "outputId": "ca496768-5dc6-42e8-e385-e10b24456eb9"
      },
      "source": [
        "new_Ytest"
      ],
      "execution_count": null,
      "outputs": [
        {
          "output_type": "execute_result",
          "data": {
            "text/plain": [
              "array([1, 7, 1, 3, 0, 6, 2, 5, 1, 4, 1, 3, 1, 4, 7, 0, 5, 6, 5, 5, 5, 1,\n",
              "       2, 4, 6, 2, 1, 6, 6, 0, 7, 7, 6, 3, 1, 2, 1, 0, 6, 2, 5, 5, 4, 4,\n",
              "       0, 5, 6, 2, 1, 6, 5, 7, 5, 3, 6, 6, 7, 5, 2, 2, 1, 4, 6, 2, 1, 0,\n",
              "       4, 7, 4, 2, 3, 7, 6, 7, 6, 6, 6, 4, 3, 1, 6, 0, 7, 3, 1, 7, 1, 1,\n",
              "       3, 7, 6, 7, 3, 7, 2, 7, 3, 3, 2, 3, 5, 7, 3, 6, 2, 1, 7, 3, 3, 7,\n",
              "       4, 3, 1, 2, 7, 4, 0, 0, 6, 3, 3, 2, 1, 0, 7, 6, 2, 3, 1, 6, 3, 5,\n",
              "       0, 6, 6, 7, 0, 3, 5, 5, 1, 2, 0, 6, 1, 1, 4, 4, 6, 3, 5, 6, 2, 3,\n",
              "       4, 7, 5, 6, 6, 7, 4, 4, 2, 5, 5, 7, 1, 7, 7, 1, 7, 7, 5, 4, 4, 0,\n",
              "       5, 4, 2, 1, 4, 2, 2, 3, 6, 1, 2, 6, 1, 6, 6, 2, 3, 4, 2, 2, 6, 0,\n",
              "       7, 2, 2, 5, 3, 3, 3, 7, 5, 2, 7, 4, 5, 1, 2, 5, 3, 4, 6, 3, 2, 3,\n",
              "       6, 7, 4, 7, 6, 5, 4, 5, 7, 0, 3, 2, 1, 7, 7, 2, 2, 0, 5, 7, 6, 1,\n",
              "       4, 2, 4, 1, 4, 5, 7, 6, 1, 2, 4, 4, 7, 1, 7, 3, 3, 0, 2, 4, 3, 1,\n",
              "       5, 4, 7, 3, 6, 6, 2, 3, 5, 0, 3, 4, 6, 6, 2, 4, 4, 6, 1, 4, 6, 6,\n",
              "       6, 3, 4, 1, 7, 2, 5, 4, 3, 6, 4, 1, 5, 0, 5, 5, 6, 6, 4, 6, 2, 5,\n",
              "       0, 1, 2, 5, 6, 7, 5, 6, 2, 5, 2, 0, 6, 1, 4, 6, 4, 4, 3, 3, 3, 3,\n",
              "       5, 7, 2, 7, 3, 4, 3, 1, 1, 4, 7, 4, 3, 5, 3, 5, 3, 3, 5, 5, 7, 5,\n",
              "       4, 2, 0, 5, 2, 0, 7, 2, 6, 5, 2, 7, 3, 4, 6, 3, 5, 5, 2, 2, 6, 6,\n",
              "       2, 3, 4, 1, 2, 2, 0, 2, 7, 3, 5, 3, 2, 1, 4, 5, 1, 4, 2, 6, 7, 2,\n",
              "       4, 2, 7, 0, 2, 0, 4, 5, 2, 1, 6, 6, 7, 4, 3, 4, 4, 6, 2, 3, 3, 4,\n",
              "       6, 5, 2, 5, 0, 5, 6, 4, 7, 2, 0, 3, 7, 1, 2, 7, 1, 2, 2, 6, 5, 2,\n",
              "       6, 6, 7, 3, 6, 2, 3, 2, 5, 3, 3, 6, 3, 4, 2, 3, 6, 4, 7, 4, 7, 0,\n",
              "       6, 3, 4, 6, 6, 5, 1, 3, 6, 1, 5, 1, 4, 6])"
            ]
          },
          "metadata": {
            "tags": []
          },
          "execution_count": 36
        }
      ]
    },
    {
      "cell_type": "markdown",
      "metadata": {
        "id": "4SPsucwQBB2O"
      },
      "source": [
        "Okay, now we can display the classification report:"
      ]
    },
    {
      "cell_type": "code",
      "metadata": {
        "id": "z7B-ShdcA-s_",
        "colab": {
          "base_uri": "https://localhost:8080/",
          "height": 269
        },
        "outputId": "5734c62b-271d-4b65-8bf1-1d39df6a8fd5"
      },
      "source": [
        "from sklearn.metrics import classification_report\n",
        "report = classification_report(new_Ytest, predictions)\n",
        "print(report)"
      ],
      "execution_count": null,
      "outputs": [
        {
          "output_type": "stream",
          "text": [
            "              precision    recall  f1-score   support\n",
            "\n",
            "           0       0.31      0.40      0.35        30\n",
            "           1       0.53      0.53      0.53        51\n",
            "           2       0.34      0.56      0.42        71\n",
            "           3       0.43      0.39      0.41        67\n",
            "           4       0.57      0.65      0.61        63\n",
            "           5       0.61      0.42      0.50        59\n",
            "           6       0.60      0.33      0.42        76\n",
            "           7       0.61      0.53      0.56        59\n",
            "\n",
            "    accuracy                           0.48       476\n",
            "   macro avg       0.50      0.48      0.47       476\n",
            "weighted avg       0.51      0.48      0.48       476\n",
            "\n"
          ],
          "name": "stdout"
        }
      ]
    },
    {
      "cell_type": "code",
      "metadata": {
        "id": "4zblwXyLBGy1",
        "colab": {
          "base_uri": "https://localhost:8080/",
          "height": 151
        },
        "outputId": "99ac55df-0eca-43e4-9cb2-efeef058f8f2"
      },
      "source": [
        "from sklearn.metrics import confusion_matrix\n",
        "matrix = confusion_matrix(new_Ytest, predictions)\n",
        "print (matrix)\n",
        "\n",
        "# 0 = neutral, 1 = calm, 2 = happy, 3 = sad, 4 = angry, 5 = fearful, 6 = disgust, 7 = surprised"
      ],
      "execution_count": null,
      "outputs": [
        {
          "output_type": "stream",
          "text": [
            "[[12  4  8  3  0  0  2  1]\n",
            " [ 8 27  4  5  0  0  6  1]\n",
            " [ 4  2 40  4  9  6  4  2]\n",
            " [ 6 10 12 26  4  5  0  4]\n",
            " [ 0  3 13  2 41  0  2  2]\n",
            " [ 1  3 13 12  2 25  1  2]\n",
            " [ 6  2 13  8 10  4 25  8]\n",
            " [ 2  0 16  1  6  1  2 31]]\n"
          ],
          "name": "stdout"
        }
      ]
    },
    {
      "cell_type": "markdown",
      "metadata": {
        "id": "K-X8NnDoBXkP"
      },
      "source": [
        "#Save the model"
      ]
    },
    {
      "cell_type": "code",
      "metadata": {
        "id": "JHSHuHR1BLYg",
        "colab": {
          "base_uri": "https://localhost:8080/",
          "height": 34
        },
        "outputId": "768c400f-c155-4a5e-f277-f0408c5989c9"
      },
      "source": [
        "model_name = 'Emotion_Voice_Detection_Model.h5'\n",
        "save_dir = '/content/drive/My Drive/Ravdess_model'\n",
        "# Save model and weights\n",
        "if not os.path.isdir(save_dir):\n",
        "    os.makedirs(save_dir)\n",
        "model_path = os.path.join(save_dir, model_name)\n",
        "model.save(model_path)\n",
        "print('Saved trained model at %s ' % model_path)"
      ],
      "execution_count": null,
      "outputs": [
        {
          "output_type": "stream",
          "text": [
            "Saved trained model at /content/drive/My Drive/Ravdess_model/Emotion_Voice_Detection_Model.h5 \n"
          ],
          "name": "stdout"
        }
      ]
    },
    {
      "cell_type": "markdown",
      "metadata": {
        "id": "TkPsFyrjBms2"
      },
      "source": [
        "#Reloading the model to test it"
      ]
    },
    {
      "cell_type": "code",
      "metadata": {
        "id": "5g2bF-fmBhua",
        "colab": {
          "base_uri": "https://localhost:8080/",
          "height": 487
        },
        "outputId": "ee5b008a-85e8-4fd9-aca5-af3c47bd5ba1"
      },
      "source": [
        "loaded_model = keras.models.load_model('/content/drive/My Drive/Ravdess_model/Emotion_Voice_Detection_Model.h5')\n",
        "loaded_model.summary()"
      ],
      "execution_count": null,
      "outputs": [
        {
          "output_type": "stream",
          "text": [
            "Model: \"sequential_1\"\n",
            "_________________________________________________________________\n",
            "Layer (type)                 Output Shape              Param #   \n",
            "=================================================================\n",
            "conv1d_2 (Conv1D)            (None, 40, 128)           768       \n",
            "_________________________________________________________________\n",
            "activation_3 (Activation)    (None, 40, 128)           0         \n",
            "_________________________________________________________________\n",
            "dropout_2 (Dropout)          (None, 40, 128)           0         \n",
            "_________________________________________________________________\n",
            "max_pooling1d_1 (MaxPooling1 (None, 5, 128)            0         \n",
            "_________________________________________________________________\n",
            "conv1d_3 (Conv1D)            (None, 5, 128)            82048     \n",
            "_________________________________________________________________\n",
            "activation_4 (Activation)    (None, 5, 128)            0         \n",
            "_________________________________________________________________\n",
            "dropout_3 (Dropout)          (None, 5, 128)            0         \n",
            "_________________________________________________________________\n",
            "flatten_1 (Flatten)          (None, 640)               0         \n",
            "_________________________________________________________________\n",
            "dense_1 (Dense)              (None, 8)                 5128      \n",
            "_________________________________________________________________\n",
            "activation_5 (Activation)    (None, 8)                 0         \n",
            "=================================================================\n",
            "Total params: 87,944\n",
            "Trainable params: 87,944\n",
            "Non-trainable params: 0\n",
            "_________________________________________________________________\n"
          ],
          "name": "stdout"
        }
      ]
    },
    {
      "cell_type": "markdown",
      "metadata": {
        "id": "7I6HMuynBxya"
      },
      "source": [
        "#Checking the accuracy of the loaded model"
      ]
    },
    {
      "cell_type": "code",
      "metadata": {
        "id": "j9mrTLE4BtV7",
        "colab": {
          "base_uri": "https://localhost:8080/",
          "height": 50
        },
        "outputId": "b020c5bc-6ec7-43bd-8131-59113e5111ee"
      },
      "source": [
        "# loss, acc = loaded_model.evaluate(x_testcnn, y_test)\n",
        "# print(\"Restored model, accuracy: {:5.2f}%\".format(100*acc))\n",
        "\n",
        "loss, acc = loaded_model.evaluate(x_testcnn, y_test)\n",
        "print(\"Restored model, accuracy: {:5.2f}%\".format(100*acc))"
      ],
      "execution_count": null,
      "outputs": [
        {
          "output_type": "stream",
          "text": [
            "15/15 [==============================] - 0s 2ms/step - loss: 0.7073 - accuracy: 0.0693\n",
            "Restored model, accuracy:  6.93%\n"
          ],
          "name": "stdout"
        }
      ]
    }
  ]
}